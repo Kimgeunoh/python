{
 "cells": [
  {
   "cell_type": "code",
   "execution_count": null,
   "metadata": {},
   "outputs": [],
   "source": [
    "num = input(\"정수를 입력하세요: \")\n",
    "\n",
    "\n",
    "if num == num[::-1]:  \n",
    "    print(f\"{num}은(는) 거꾸로 정수입니다.\")\n",
    "else:\n",
    "    print(f\"{num}은(는) 거꾸로 정수가 아닙니다.\")\n"
   ]
  }
 ],
 "metadata": {
  "kernelspec": {
   "display_name": "Python 3",
   "language": "python",
   "name": "python3"
  },
  "language_info": {
   "name": "python",
   "version": "3.13.2"
  }
 },
 "nbformat": 4,
 "nbformat_minor": 2
}
