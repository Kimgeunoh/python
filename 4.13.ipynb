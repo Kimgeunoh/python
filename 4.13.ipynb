{
 "cells": [
  {
   "cell_type": "code",
   "execution_count": null,
   "metadata": {},
   "outputs": [],
   "source": [
    "print(\"세 자리의 암스트롱 수: \", end=\"\")\n",
    "\n",
    "for num in range(100, 1000): \n",
    "    hundreds = num // 100  \n",
    "    tens = (num // 10) % 10  \n",
    "    ones = num % 10  \n",
    "    \n",
    "    if (hundreds**3 + tens**3 + ones**3) == num:\n",
    "        print(num, end=\" \")\n"
   ]
  }
 ],
 "metadata": {
  "kernelspec": {
   "display_name": "Python 3",
   "language": "python",
   "name": "python3"
  },
  "language_info": {
   "name": "python",
   "version": "3.13.2"
  }
 },
 "nbformat": 4,
 "nbformat_minor": 2
}
