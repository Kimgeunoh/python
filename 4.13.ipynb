{
 "cells": [
  {
   "cell_type": "code",
   "execution_count": null,
   "metadata": {},
   "outputs": [],
   "source": [
    "print(\"세 자리의 암스트롱 수 :\", end=\" \")\n",
    "\n",
    "for num in range(100, 1000):\n",
    "    hundreds = num // 100\n",
    "    tens = (num % 100) // 10\n",
    "    ones = num % 10\n",
    "\n",
    "    if (hundreds**3 + tens**3 + ones**3) == num:\n",
    "        print(num, end=\" \")\n"
   ]
  }
 ],
 "metadata": {
  "language_info": {
   "name": "python"
  }
 },
 "nbformat": 4,
 "nbformat_minor": 2
}
