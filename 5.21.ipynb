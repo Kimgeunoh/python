{
 "cells": [
  {
   "cell_type": "code",
   "execution_count": 3,
   "metadata": {},
   "outputs": [],
   "source": [
    "def parse_jumin(jumin):\n",
    "    year = int(jumin[:2])\n",
    "    month = int(jumin[2:4])\n",
    "    day = int(jumin[4:6])\n",
    "\n",
    "    if year >= 50:\n",
    "        full_year = 1900 + year\n",
    "    else:\n",
    "        full_year = 2000 + year\n",
    "\n",
    "    print(f\"{full_year}년 {month}월 {day}일\")\n",
    "\n",
    "\n"
   ]
  }
 ],
 "metadata": {
  "kernelspec": {
   "display_name": "base",
   "language": "python",
   "name": "python3"
  },
  "language_info": {
   "codemirror_mode": {
    "name": "ipython",
    "version": 3
   },
   "file_extension": ".py",
   "mimetype": "text/x-python",
   "name": "python",
   "nbconvert_exporter": "python",
   "pygments_lexer": "ipython3",
   "version": "3.11.7"
  }
 },
 "nbformat": 4,
 "nbformat_minor": 2
}
