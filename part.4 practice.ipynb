{
 "cells": [
  {
   "cell_type": "code",
   "execution_count": null,
   "metadata": {},
   "outputs": [],
   "source": [
    "for i in range(1, 10):\n",
    "    print(f\"2 * {i} = {2 * i}\")\n",
    "\n",
    "\n",
    "i = 1\n",
    "while i < 10:\n",
    "    print(f\"2 * {i} = {2 * i}\")\n",
    "    i += 1\n",
    "\n"
   ]
  },
  {
   "cell_type": "code",
   "execution_count": null,
   "metadata": {},
   "outputs": [],
   "source": [
    "n = int(input(\"숫자를 입력하세요: \"))\n",
    "\n",
    "for i in range(1, n + 1):\n",
    "    for j in range(i):\n",
    "        print(\"*\", end=\"\")\n",
    "    print()\n",
    "\n",
    "\n",
    "n = int(input(\"숫자를 입력하세요: \"))\n",
    "\n",
    "i = 1\n",
    "while i <= n:\n",
    "    j = 0\n",
    "    while j < i:\n",
    "        print(\"*\", end=\"\")\n",
    "        j += 1\n",
    "    print()\n",
    "    i += 1\n"
   ]
  },
  {
   "cell_type": "code",
   "execution_count": null,
   "metadata": {},
   "outputs": [],
   "source": [
    "print(\"세 자리의 암스트롱 수: \", end=\"\")\n",
    "\n",
    "for num in range(100, 1000): \n",
    "    hundreds = num // 100  \n",
    "    tens = (num // 10) % 10  \n",
    "    ones = num % 10  \n",
    "    \n",
    "    if (hundreds**3 + tens**3 + ones**3) == num:\n",
    "        print(num, end=\" \")\n"
   ]
  },
  {
   "cell_type": "code",
   "execution_count": null,
   "metadata": {},
   "outputs": [],
   "source": [
    "num = input(\"정수를 입력하세요: \")\n",
    "\n",
    "\n",
    "if num == num[::-1]:  \n",
    "    print(f\"{num}은(는) 거꾸로 정수입니다.\")\n",
    "else:\n",
    "    print(f\"{num}은(는) 거꾸로 정수가 아닙니다.\")\n"
   ]
  },
  {
   "cell_type": "code",
   "execution_count": null,
   "metadata": {},
   "outputs": [],
   "source": [
    "def get_proper_divisors(n):\n",
    "    \n",
    "    return [i for i in range(1, n) if n % i == 0]\n",
    "\n",
    "def sum_of_divisors(n):\n",
    "    \n",
    "    return sum(get_proper_divisors(n))\n",
    "\n",
    "def find_amicable_numbers(limit):\n",
    "    \n",
    "    amicable_pairs = set()  \n",
    "\n",
    "    for a in range(1, limit + 1):\n",
    "        b = sum_of_divisors(a)\n",
    "        if a != b and sum_of_divisors(b) == a:  \n",
    "            amicable_pairs.add(tuple(sorted((a, b))))  \n",
    "\n",
    "    return amicable_pairs\n",
    "\n",
    "\n",
    "amicable_numbers = find_amicable_numbers(20000)\n",
    "\n",
    "\n",
    "for a, b in sorted(amicable_numbers):\n",
    "    print(f\"{a}의 친화수 {b}\")\n"
   ]
  }
 ],
 "metadata": {
  "kernelspec": {
   "display_name": "Python 3",
   "language": "python",
   "name": "python3"
  },
  "language_info": {
   "codemirror_mode": {
    "name": "ipython",
    "version": 3
   },
   "file_extension": ".py",
   "mimetype": "text/x-python",
   "name": "python",
   "nbconvert_exporter": "python",
   "pygments_lexer": "ipython3",
   "version": "3.13.2"
  }
 },
 "nbformat": 4,
 "nbformat_minor": 2
}
