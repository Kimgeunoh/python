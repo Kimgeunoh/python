1.


for i in range(1, 10):
    print(f"2 * {i} = {2 * i}")


i = 1
while i < 10:
    print(f"2 * {i} = {2 * i}")
    i += 1







2.

n = int(input("숫자를 입력하세요: "))

for i in range(1, n + 1):
    for j in range(i):
        print("*", end="")
    print()


n = int(input("숫자를 입력하세요: "))

i = 1
while i <= n:
    j = 0
    while j < i:
        print("*", end="")
        j += 1
    print()
    i += 1







3.

print("세 자리의 암스트롱 수: ", end="")

for num in range(100, 1000): 
    hundreds = num // 100  
    tens = (num // 10) % 10  
    ones = num % 10  
    
    if (hundreds**3 + tens**3 + ones**3) == num:
        print(num, end=" ")






4.

num = input("정수를 입력하세요: ")


if num == num[::-1]:  
    print(f"{num}은(는) 거꾸로 정수입니다.")
else:
    print(f"{num}은(는) 거꾸로 정수가 아닙니다.")






5. 

def get_proper_divisors(n):
    
    return [i for i in range(1, n) if n % i == 0]

def sum_of_divisors(n):
    
    return sum(get_proper_divisors(n))

def find_amicable_numbers(limit):
    
    amicable_pairs = set()  

    for a in range(1, limit + 1):
        b = sum_of_divisors(a)
        if a != b and sum_of_divisors(b) == a:  
            amicable_pairs.add(tuple(sorted((a, b))))  

    return amicable_pairs


amicable_numbers = find_amicable_numbers(20000)


for a, b in sorted(amicable_numbers):
    print(f"{a}의 친화수 {b}")
