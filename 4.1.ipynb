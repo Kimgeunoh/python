{
 "cells": [
  {
   "cell_type": "code",
   "execution_count": null,
   "metadata": {},
   "outputs": [],
   "source": [
    "for i in range(1, 10):\n",
    "    print(f\"2 * {i} = {2 * i}\")\n",
    "\n",
    "\n",
    "i = 1\n",
    "while i < 10:\n",
    "    print(f\"2 * {i} = {2 * i}\")\n",
    "    i += 1\n",
    "\n"
   ]
  }
 ],
 "metadata": {
  "language_info": {
   "name": "python"
  }
 },
 "nbformat": 4,
 "nbformat_minor": 2
}
