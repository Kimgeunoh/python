{
 "cells": [
  {
   "cell_type": "code",
   "execution_count": null,
   "metadata": {},
   "outputs": [],
   "source": [
    "def get_proper_divisors(n):\n",
    "    \n",
    "    return [i for i in range(1, n) if n % i == 0]\n",
    "\n",
    "def sum_of_divisors(n):\n",
    "    \n",
    "    return sum(get_proper_divisors(n))\n",
    "\n",
    "def find_amicable_numbers(limit):\n",
    "    \n",
    "    amicable_pairs = set()  \n",
    "\n",
    "    for a in range(1, limit + 1):\n",
    "        b = sum_of_divisors(a)\n",
    "        if a != b and sum_of_divisors(b) == a:  \n",
    "            amicable_pairs.add(tuple(sorted((a, b))))  \n",
    "\n",
    "    return amicable_pairs\n",
    "\n",
    "\n",
    "amicable_numbers = find_amicable_numbers(20000)\n",
    "\n",
    "\n",
    "for a, b in sorted(amicable_numbers):\n",
    "    print(f\"{a}의 친화수 {b}\")\n"
   ]
  }
 ],
 "metadata": {
  "kernelspec": {
   "display_name": "Python 3",
   "language": "python",
   "name": "python3"
  },
  "language_info": {
   "name": "python",
   "version": "3.13.2"
  }
 },
 "nbformat": 4,
 "nbformat_minor": 2
}
